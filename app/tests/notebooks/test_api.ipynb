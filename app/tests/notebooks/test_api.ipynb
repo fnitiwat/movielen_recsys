{
 "cells": [
  {
   "cell_type": "code",
   "execution_count": null,
   "metadata": {},
   "outputs": [],
   "source": [
    "import requests\n",
    "import pprint as pp\n",
    "\n",
    "base_url = \"http://localhost:8080/recommendations\"\n",
    "\n",
    "\n",
    "user_id = 18\n",
    "return_metadata = True\n",
    "\n",
    "endpoint = base_url + \"?\" + \"user_id=\" + str(user_id)\n",
    "if return_metadata:\n",
    "    endpoint = endpoint + \"&&returnMetadata=true\"\n",
    "\n",
    "response = requests.get(endpoint)\n",
    "response.raise_for_status()\n",
    "\n",
    "pp.pprint(response.json())"
   ]
  },
  {
   "cell_type": "code",
   "execution_count": null,
   "metadata": {},
   "outputs": [],
   "source": []
  }
 ],
 "metadata": {
  "kernelspec": {
   "display_name": "Python 3.9.13 64-bit",
   "language": "python",
   "name": "python3"
  },
  "language_info": {
   "codemirror_mode": {
    "name": "ipython",
    "version": 3
   },
   "file_extension": ".py",
   "mimetype": "text/x-python",
   "name": "python",
   "nbconvert_exporter": "python",
   "pygments_lexer": "ipython3",
   "version": "3.9.13"
  },
  "orig_nbformat": 4,
  "vscode": {
   "interpreter": {
    "hash": "b0fa6594d8f4cbf19f97940f81e996739fb7646882a419484c72d19e05852a7e"
   }
  }
 },
 "nbformat": 4,
 "nbformat_minor": 2
}
