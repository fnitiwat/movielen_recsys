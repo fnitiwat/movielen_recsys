{
 "cells": [
  {
   "cell_type": "code",
   "execution_count": 2,
   "metadata": {},
   "outputs": [
    {
     "name": "stdout",
     "output_type": "stream",
     "text": [
      "{'items': [{'genres': ['Adventure', 'Drama', 'War'],\n",
      "            'id': '1204',\n",
      "            'title': 'Lawrence of Arabia (1962)'},\n",
      "           {'genres': ['Drama', 'Romance'],\n",
      "            'id': '912',\n",
      "            'title': 'Casablanca (1942)'},\n",
      "           {'genres': ['Comedy', 'War'],\n",
      "            'id': '750',\n",
      "            'title': 'Dr. Strangelove or: How I Learned to Stop Worrying and '\n",
      "                     'Love the Bomb (1964)'},\n",
      "           {'genres': ['Action', 'Adventure', 'Comedy', 'Fantasy', 'Romance'],\n",
      "            'id': '1197',\n",
      "            'title': 'Princess Bride, The (1987)'},\n",
      "           {'genres': ['Adventure', 'Animation', 'Fantasy'],\n",
      "            'id': '5618',\n",
      "            'title': 'Spirited Away (Sen to Chihiro no kamikakushi) (2001)'},\n",
      "           {'genres': ['Comedy', 'Drama', 'Romance'],\n",
      "            'id': '6711',\n",
      "            'title': 'Lost in Translation (2003)'},\n",
      "           {'genres': ['Action', 'Adventure', 'Crime', 'Drama', 'Thriller'],\n",
      "            'id': '6016',\n",
      "            'title': 'City of God (Cidade de Deus) (2002)'},\n",
      "           {'genres': ['Documentary'],\n",
      "            'id': '246',\n",
      "            'title': 'Hoop Dreams (1994)'},\n",
      "           {'genres': ['Action', 'Drama', 'War'],\n",
      "            'id': '1233',\n",
      "            'title': 'Boot, Das (Boat, The) (1981)'},\n",
      "           {'genres': ['Drama'],\n",
      "            'id': '306',\n",
      "            'title': 'Three Colors: Red (Trois couleurs: Rouge) (1994)'}]}\n"
     ]
    }
   ],
   "source": [
    "import requests\n",
    "import pprint as pp\n",
    "\n",
    "base_url = \"http://localhost:8080/recommendations\"\n",
    "\n",
    "\n",
    "user_id = 18\n",
    "return_metadata = True\n",
    "\n",
    "endpoint = base_url + \"?\" + \"user_id=\" + str(user_id)\n",
    "if return_metadata:\n",
    "    endpoint = endpoint + \"&&returnMetadata=true\"\n",
    "\n",
    "response = requests.get(endpoint)\n",
    "response.raise_for_status()\n",
    "\n",
    "pp.pprint(response.json())"
   ]
  },
  {
   "cell_type": "code",
   "execution_count": null,
   "metadata": {},
   "outputs": [],
   "source": []
  }
 ],
 "metadata": {
  "kernelspec": {
   "display_name": "Python 3.9.13 64-bit",
   "language": "python",
   "name": "python3"
  },
  "language_info": {
   "codemirror_mode": {
    "name": "ipython",
    "version": 3
   },
   "file_extension": ".py",
   "mimetype": "text/x-python",
   "name": "python",
   "nbconvert_exporter": "python",
   "pygments_lexer": "ipython3",
   "version": "3.9.13"
  },
  "orig_nbformat": 4,
  "vscode": {
   "interpreter": {
    "hash": "b0fa6594d8f4cbf19f97940f81e996739fb7646882a419484c72d19e05852a7e"
   }
  }
 },
 "nbformat": 4,
 "nbformat_minor": 2
}
