{
 "cells": [
  {
   "cell_type": "code",
   "execution_count": null,
   "metadata": {},
   "outputs": [],
   "source": [
    "import feast\n",
    "import pandas as pd\n",
    "from datetime import datetime\n",
    "\n",
    "fs = feast.FeatureStore(repo_path=\"../src\")"
   ]
  },
  {
   "cell_type": "markdown",
   "metadata": {},
   "source": [
    "# Data Scientist Research Retrieval\n"
   ]
  },
  {
   "cell_type": "code",
   "execution_count": null,
   "metadata": {},
   "outputs": [],
   "source": [
    "entity_df = pd.DataFrame({\"userId\": [\"1.0\", \"2.0\", \"3.0\", \"4.0\", \"5.0\"], \"event_timestamp\": [datetime.now()]*5})\n",
    "training_df = fs.get_historical_features(\n",
    "    entity_df=entity_df,\n",
    "    features=[\n",
    "        \"watch_histories_feature_view:watch_histories\",\n",
    "        \"rating_feature_view:movieId\",\n",
    "        \"rating_feature_view:rating\",\n",
    "        \"global_stats_view:movieIds\",\n",
    "    ],\n",
    ").to_df()\n",
    "display(training_df)"
   ]
  },
  {
   "cell_type": "markdown",
   "metadata": {},
   "source": [
    "# Training Pipeline Retrieval\n"
   ]
  },
  {
   "cell_type": "code",
   "execution_count": null,
   "metadata": {},
   "outputs": [],
   "source": [
    "entity_df = pd.DataFrame({\"userId\": [\"1.0\", \"2.0\", \"3.0\", \"4.0\", \"5.0\"], \"timestamp\": [datetime.now()]*5})\n",
    "feature_service = fs.get_feature_service(\"rating_service\")\n",
    "\n",
    "training_df = fs.get_historical_features(\n",
    "    features=feature_service, entity_df=entity_df\n",
    ").to_df()\n",
    "display(training_df)"
   ]
  },
  {
   "cell_type": "markdown",
   "metadata": {},
   "source": [
    "# Online Serving Retrieval\n"
   ]
  },
  {
   "cell_type": "code",
   "execution_count": null,
   "metadata": {},
   "outputs": [],
   "source": [
    "entity_rows = [{\"userId\": \"1.0\"}, {\"userId\": \"2.0\"}]\n",
    "feature_service = fs.get_feature_service(\"rating_service\")\n",
    "\n",
    "training_df = fs.get_online_features(\n",
    "    features=feature_service, entity_rows=entity_rows\n",
    ").to_df()\n",
    "display(training_df)"
   ]
  },
  {
   "cell_type": "code",
   "execution_count": null,
   "metadata": {},
   "outputs": [],
   "source": [
    "feature_service = fs.get_feature_service(\"watch_histories_service\")\n",
    "\n",
    "training_df = fs.get_online_features(\n",
    "    features=feature_service, entity_rows=entity_rows\n",
    ").to_df()\n",
    "display(training_df)"
   ]
  },
  {
   "cell_type": "code",
   "execution_count": null,
   "metadata": {},
   "outputs": [],
   "source": [
    "feature_service = fs.get_feature_service(\"model_v1\")\n",
    "\n",
    "training_df = fs.get_online_features(\n",
    "    features=feature_service, entity_rows=entity_rows\n",
    ").to_df()\n",
    "display(training_df)"
   ]
  },
  {
   "cell_type": "code",
   "execution_count": null,
   "metadata": {},
   "outputs": [],
   "source": [
    "feature_service = fs.get_feature_service(\"model_v2\")\n",
    "\n",
    "training_df = fs.get_online_features(\n",
    "    features=feature_service, entity_rows=entity_rows\n",
    ").to_df()\n",
    "display(training_df)"
   ]
  },
  {
   "cell_type": "code",
   "execution_count": null,
   "metadata": {},
   "outputs": [],
   "source": [
    "feature_service = fs.get_feature_service(\"model_v3\")\n",
    "\n",
    "training_df = fs.get_online_features(\n",
    "    features=feature_service, entity_rows=entity_rows\n",
    ").to_df()\n",
    "display(training_df)"
   ]
  }
 ],
 "metadata": {
  "kernelspec": {
   "display_name": "feast",
   "language": "python",
   "name": "python3"
  },
  "language_info": {
   "codemirror_mode": {
    "name": "ipython",
    "version": 3
   },
   "file_extension": ".py",
   "mimetype": "text/x-python",
   "name": "python",
   "nbconvert_exporter": "python",
   "pygments_lexer": "ipython3",
   "version": "3.8.17"
  },
  "orig_nbformat": 4
 },
 "nbformat": 4,
 "nbformat_minor": 2
}
