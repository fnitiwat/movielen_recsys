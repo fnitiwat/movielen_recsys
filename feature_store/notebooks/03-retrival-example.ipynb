{
 "cells": [
  {
   "cell_type": "code",
   "execution_count": null,
   "metadata": {},
   "outputs": [],
   "source": [
    "import feast\n",
    "import pandas as pd\n",
    "from datetime import datetime\n",
    "\n",
    "fs = feast.FeatureStore(repo_path=\"../src\")"
   ]
  },
  {
   "cell_type": "markdown",
   "metadata": {},
   "source": [
    "# Data Scientist Research Retrieval\n"
   ]
  },
  {
   "cell_type": "code",
   "execution_count": 8,
   "metadata": {},
   "outputs": [
    {
     "ename": "FileNotFoundError",
     "evalue": "An error occurred while calling the read_parquet method registered to the pandas backend.\nOriginal Message: /Users/nitiwat/Developer/movielen_recsys/feature_store/notebooks/data/interim/transformed_watch_histories.parquet",
     "output_type": "error",
     "traceback": [
      "\u001b[0;31m---------------------------------------------------------------------------\u001b[0m",
      "\u001b[0;31mFileNotFoundError\u001b[0m                         Traceback (most recent call last)",
      "File \u001b[0;32m/opt/miniconda3/envs/feast/lib/python3.8/site-packages/dask/backends.py:135\u001b[0m, in \u001b[0;36mCreationDispatch.register_inplace.<locals>.decorator.<locals>.wrapper\u001b[0;34m(*args, **kwargs)\u001b[0m\n\u001b[1;32m    134\u001b[0m \u001b[39mtry\u001b[39;00m:\n\u001b[0;32m--> 135\u001b[0m     \u001b[39mreturn\u001b[39;00m func(\u001b[39m*\u001b[39;49margs, \u001b[39m*\u001b[39;49m\u001b[39m*\u001b[39;49mkwargs)\n\u001b[1;32m    136\u001b[0m \u001b[39mexcept\u001b[39;00m \u001b[39mException\u001b[39;00m \u001b[39mas\u001b[39;00m e:\n",
      "File \u001b[0;32m/opt/miniconda3/envs/feast/lib/python3.8/site-packages/dask/dataframe/io/parquet/core.py:543\u001b[0m, in \u001b[0;36mread_parquet\u001b[0;34m(path, columns, filters, categories, index, storage_options, engine, use_nullable_dtypes, dtype_backend, calculate_divisions, ignore_metadata_file, metadata_task_size, split_row_groups, blocksize, aggregate_files, parquet_file_extension, filesystem, **kwargs)\u001b[0m\n\u001b[1;32m    541\u001b[0m     blocksize \u001b[39m=\u001b[39m \u001b[39mNone\u001b[39;00m\n\u001b[0;32m--> 543\u001b[0m read_metadata_result \u001b[39m=\u001b[39m engine\u001b[39m.\u001b[39;49mread_metadata(\n\u001b[1;32m    544\u001b[0m     fs,\n\u001b[1;32m    545\u001b[0m     paths,\n\u001b[1;32m    546\u001b[0m     categories\u001b[39m=\u001b[39;49mcategories,\n\u001b[1;32m    547\u001b[0m     index\u001b[39m=\u001b[39;49mindex,\n\u001b[1;32m    548\u001b[0m     use_nullable_dtypes\u001b[39m=\u001b[39;49muse_nullable_dtypes,\n\u001b[1;32m    549\u001b[0m     dtype_backend\u001b[39m=\u001b[39;49mdtype_backend,\n\u001b[1;32m    550\u001b[0m     gather_statistics\u001b[39m=\u001b[39;49mcalculate_divisions,\n\u001b[1;32m    551\u001b[0m     filters\u001b[39m=\u001b[39;49mfilters,\n\u001b[1;32m    552\u001b[0m     split_row_groups\u001b[39m=\u001b[39;49msplit_row_groups,\n\u001b[1;32m    553\u001b[0m     blocksize\u001b[39m=\u001b[39;49mblocksize,\n\u001b[1;32m    554\u001b[0m     aggregate_files\u001b[39m=\u001b[39;49maggregate_files,\n\u001b[1;32m    555\u001b[0m     ignore_metadata_file\u001b[39m=\u001b[39;49mignore_metadata_file,\n\u001b[1;32m    556\u001b[0m     metadata_task_size\u001b[39m=\u001b[39;49mmetadata_task_size,\n\u001b[1;32m    557\u001b[0m     parquet_file_extension\u001b[39m=\u001b[39;49mparquet_file_extension,\n\u001b[1;32m    558\u001b[0m     dataset\u001b[39m=\u001b[39;49mdataset_options,\n\u001b[1;32m    559\u001b[0m     read\u001b[39m=\u001b[39;49mread_options,\n\u001b[1;32m    560\u001b[0m     \u001b[39m*\u001b[39;49m\u001b[39m*\u001b[39;49mother_options,\n\u001b[1;32m    561\u001b[0m )\n\u001b[1;32m    563\u001b[0m \u001b[39m# In the future, we may want to give the engine the\u001b[39;00m\n\u001b[1;32m    564\u001b[0m \u001b[39m# option to return a dedicated element for `common_kwargs`.\u001b[39;00m\n\u001b[1;32m    565\u001b[0m \u001b[39m# However, to avoid breaking the API, we just embed this\u001b[39;00m\n\u001b[1;32m    566\u001b[0m \u001b[39m# data in the first element of `parts` for now.\u001b[39;00m\n\u001b[1;32m    567\u001b[0m \u001b[39m# The logic below is inteded to handle backward and forward\u001b[39;00m\n\u001b[1;32m    568\u001b[0m \u001b[39m# compatibility with a user-defined engine.\u001b[39;00m\n",
      "File \u001b[0;32m/opt/miniconda3/envs/feast/lib/python3.8/site-packages/dask/dataframe/io/parquet/arrow.py:532\u001b[0m, in \u001b[0;36mArrowDatasetEngine.read_metadata\u001b[0;34m(cls, fs, paths, categories, index, use_nullable_dtypes, dtype_backend, gather_statistics, filters, split_row_groups, blocksize, aggregate_files, ignore_metadata_file, metadata_task_size, parquet_file_extension, **kwargs)\u001b[0m\n\u001b[1;32m    531\u001b[0m \u001b[39m# Stage 1: Collect general dataset information\u001b[39;00m\n\u001b[0;32m--> 532\u001b[0m dataset_info \u001b[39m=\u001b[39m \u001b[39mcls\u001b[39;49m\u001b[39m.\u001b[39;49m_collect_dataset_info(\n\u001b[1;32m    533\u001b[0m     paths,\n\u001b[1;32m    534\u001b[0m     fs,\n\u001b[1;32m    535\u001b[0m     categories,\n\u001b[1;32m    536\u001b[0m     index,\n\u001b[1;32m    537\u001b[0m     gather_statistics,\n\u001b[1;32m    538\u001b[0m     filters,\n\u001b[1;32m    539\u001b[0m     split_row_groups,\n\u001b[1;32m    540\u001b[0m     blocksize,\n\u001b[1;32m    541\u001b[0m     aggregate_files,\n\u001b[1;32m    542\u001b[0m     ignore_metadata_file,\n\u001b[1;32m    543\u001b[0m     metadata_task_size,\n\u001b[1;32m    544\u001b[0m     parquet_file_extension,\n\u001b[1;32m    545\u001b[0m     kwargs,\n\u001b[1;32m    546\u001b[0m )\n\u001b[1;32m    548\u001b[0m \u001b[39m# Stage 2: Generate output `meta`\u001b[39;00m\n",
      "File \u001b[0;32m/opt/miniconda3/envs/feast/lib/python3.8/site-packages/dask/dataframe/io/parquet/arrow.py:1047\u001b[0m, in \u001b[0;36mArrowDatasetEngine._collect_dataset_info\u001b[0;34m(cls, paths, fs, categories, index, gather_statistics, filters, split_row_groups, blocksize, aggregate_files, ignore_metadata_file, metadata_task_size, parquet_file_extension, kwargs)\u001b[0m\n\u001b[1;32m   1046\u001b[0m \u001b[39mif\u001b[39;00m ds \u001b[39mis\u001b[39;00m \u001b[39mNone\u001b[39;00m:\n\u001b[0;32m-> 1047\u001b[0m     ds \u001b[39m=\u001b[39m pa_ds\u001b[39m.\u001b[39;49mdataset(\n\u001b[1;32m   1048\u001b[0m         paths,\n\u001b[1;32m   1049\u001b[0m         filesystem\u001b[39m=\u001b[39;49m_wrapped_fs(fs),\n\u001b[1;32m   1050\u001b[0m         \u001b[39m*\u001b[39;49m\u001b[39m*\u001b[39;49m_processed_dataset_kwargs,\n\u001b[1;32m   1051\u001b[0m     )\n\u001b[1;32m   1053\u001b[0m \u001b[39m# Get file_frag sample and extract physical_schema\u001b[39;00m\n",
      "File \u001b[0;32m/opt/miniconda3/envs/feast/lib/python3.8/site-packages/pyarrow/dataset.py:765\u001b[0m, in \u001b[0;36mdataset\u001b[0;34m(source, schema, format, filesystem, partitioning, partition_base_dir, exclude_invalid_files, ignore_prefixes)\u001b[0m\n\u001b[1;32m    764\u001b[0m \u001b[39mif\u001b[39;00m \u001b[39mall\u001b[39m(_is_path_like(elem) \u001b[39mfor\u001b[39;00m elem \u001b[39min\u001b[39;00m source):\n\u001b[0;32m--> 765\u001b[0m     \u001b[39mreturn\u001b[39;00m _filesystem_dataset(source, \u001b[39m*\u001b[39;49m\u001b[39m*\u001b[39;49mkwargs)\n\u001b[1;32m    766\u001b[0m \u001b[39melif\u001b[39;00m \u001b[39mall\u001b[39m(\u001b[39misinstance\u001b[39m(elem, Dataset) \u001b[39mfor\u001b[39;00m elem \u001b[39min\u001b[39;00m source):\n",
      "File \u001b[0;32m/opt/miniconda3/envs/feast/lib/python3.8/site-packages/pyarrow/dataset.py:443\u001b[0m, in \u001b[0;36m_filesystem_dataset\u001b[0;34m(source, schema, filesystem, partitioning, format, partition_base_dir, exclude_invalid_files, selector_ignore_prefixes)\u001b[0m\n\u001b[1;32m    442\u001b[0m \u001b[39mif\u001b[39;00m \u001b[39misinstance\u001b[39m(source, (\u001b[39mlist\u001b[39m, \u001b[39mtuple\u001b[39m)):\n\u001b[0;32m--> 443\u001b[0m     fs, paths_or_selector \u001b[39m=\u001b[39m _ensure_multiple_sources(source, filesystem)\n\u001b[1;32m    444\u001b[0m \u001b[39melse\u001b[39;00m:\n",
      "File \u001b[0;32m/opt/miniconda3/envs/feast/lib/python3.8/site-packages/pyarrow/dataset.py:362\u001b[0m, in \u001b[0;36m_ensure_multiple_sources\u001b[0;34m(paths, filesystem)\u001b[0m\n\u001b[1;32m    361\u001b[0m \u001b[39melif\u001b[39;00m file_type \u001b[39m==\u001b[39m FileType\u001b[39m.\u001b[39mNotFound:\n\u001b[0;32m--> 362\u001b[0m     \u001b[39mraise\u001b[39;00m \u001b[39mFileNotFoundError\u001b[39;00m(info\u001b[39m.\u001b[39mpath)\n\u001b[1;32m    363\u001b[0m \u001b[39melif\u001b[39;00m file_type \u001b[39m==\u001b[39m FileType\u001b[39m.\u001b[39mDirectory:\n",
      "\u001b[0;31mFileNotFoundError\u001b[0m: /Users/nitiwat/Developer/movielen_recsys/feature_store/notebooks/data/interim/transformed_watch_histories.parquet",
      "\nThe above exception was the direct cause of the following exception:\n",
      "\u001b[0;31mFileNotFoundError\u001b[0m                         Traceback (most recent call last)",
      "\u001b[1;32m/Users/nitiwat/Developer/movielen_recsys/feature_store/notebooks/03-retrival-example.ipynb Cell 3\u001b[0m line \u001b[0;36m2\n\u001b[1;32m      <a href='vscode-notebook-cell:/Users/nitiwat/Developer/movielen_recsys/feature_store/notebooks/03-retrival-example.ipynb#W2sZmlsZQ%3D%3D?line=0'>1</a>\u001b[0m entity_df \u001b[39m=\u001b[39m pd\u001b[39m.\u001b[39mDataFrame({\u001b[39m\"\u001b[39m\u001b[39muserId\u001b[39m\u001b[39m\"\u001b[39m: [\u001b[39m\"\u001b[39m\u001b[39m1.0\u001b[39m\u001b[39m\"\u001b[39m, \u001b[39m\"\u001b[39m\u001b[39m2.0\u001b[39m\u001b[39m\"\u001b[39m, \u001b[39m\"\u001b[39m\u001b[39m3.0\u001b[39m\u001b[39m\"\u001b[39m, \u001b[39m\"\u001b[39m\u001b[39m4.0\u001b[39m\u001b[39m\"\u001b[39m, \u001b[39m\"\u001b[39m\u001b[39m5.0\u001b[39m\u001b[39m\"\u001b[39m], \u001b[39m\"\u001b[39m\u001b[39mevent_timestamp\u001b[39m\u001b[39m\"\u001b[39m: [datetime\u001b[39m.\u001b[39mnow()]\u001b[39m*\u001b[39m\u001b[39m5\u001b[39m})\n\u001b[0;32m----> <a href='vscode-notebook-cell:/Users/nitiwat/Developer/movielen_recsys/feature_store/notebooks/03-retrival-example.ipynb#W2sZmlsZQ%3D%3D?line=1'>2</a>\u001b[0m training_df \u001b[39m=\u001b[39m fs\u001b[39m.\u001b[39;49mget_historical_features(\n\u001b[1;32m      <a href='vscode-notebook-cell:/Users/nitiwat/Developer/movielen_recsys/feature_store/notebooks/03-retrival-example.ipynb#W2sZmlsZQ%3D%3D?line=2'>3</a>\u001b[0m     entity_df\u001b[39m=\u001b[39;49mentity_df,\n\u001b[1;32m      <a href='vscode-notebook-cell:/Users/nitiwat/Developer/movielen_recsys/feature_store/notebooks/03-retrival-example.ipynb#W2sZmlsZQ%3D%3D?line=3'>4</a>\u001b[0m     features\u001b[39m=\u001b[39;49m[\n\u001b[1;32m      <a href='vscode-notebook-cell:/Users/nitiwat/Developer/movielen_recsys/feature_store/notebooks/03-retrival-example.ipynb#W2sZmlsZQ%3D%3D?line=4'>5</a>\u001b[0m         \u001b[39m\"\u001b[39;49m\u001b[39mwatch_histories_feature_view:watch_histories\u001b[39;49m\u001b[39m\"\u001b[39;49m,\n\u001b[1;32m      <a href='vscode-notebook-cell:/Users/nitiwat/Developer/movielen_recsys/feature_store/notebooks/03-retrival-example.ipynb#W2sZmlsZQ%3D%3D?line=5'>6</a>\u001b[0m         \u001b[39m\"\u001b[39;49m\u001b[39mrating_feature_view:movieId\u001b[39;49m\u001b[39m\"\u001b[39;49m,\n\u001b[1;32m      <a href='vscode-notebook-cell:/Users/nitiwat/Developer/movielen_recsys/feature_store/notebooks/03-retrival-example.ipynb#W2sZmlsZQ%3D%3D?line=6'>7</a>\u001b[0m         \u001b[39m\"\u001b[39;49m\u001b[39mrating_feature_view:rating\u001b[39;49m\u001b[39m\"\u001b[39;49m,\n\u001b[1;32m      <a href='vscode-notebook-cell:/Users/nitiwat/Developer/movielen_recsys/feature_store/notebooks/03-retrival-example.ipynb#W2sZmlsZQ%3D%3D?line=7'>8</a>\u001b[0m         \u001b[39m\"\u001b[39;49m\u001b[39mglobal_stats_view:movieIds\u001b[39;49m\u001b[39m\"\u001b[39;49m,\n\u001b[1;32m      <a href='vscode-notebook-cell:/Users/nitiwat/Developer/movielen_recsys/feature_store/notebooks/03-retrival-example.ipynb#W2sZmlsZQ%3D%3D?line=8'>9</a>\u001b[0m     ],\n\u001b[1;32m     <a href='vscode-notebook-cell:/Users/nitiwat/Developer/movielen_recsys/feature_store/notebooks/03-retrival-example.ipynb#W2sZmlsZQ%3D%3D?line=9'>10</a>\u001b[0m )\u001b[39m.\u001b[39;49mto_df()\n\u001b[1;32m     <a href='vscode-notebook-cell:/Users/nitiwat/Developer/movielen_recsys/feature_store/notebooks/03-retrival-example.ipynb#W2sZmlsZQ%3D%3D?line=10'>11</a>\u001b[0m display(training_df)\n",
      "File \u001b[0;32m/opt/miniconda3/envs/feast/lib/python3.8/site-packages/feast/infra/offline_stores/offline_store.py:79\u001b[0m, in \u001b[0;36mRetrievalJob.to_df\u001b[0;34m(self, validation_reference, timeout)\u001b[0m\n\u001b[1;32m     64\u001b[0m \u001b[39mdef\u001b[39;00m \u001b[39mto_df\u001b[39m(\n\u001b[1;32m     65\u001b[0m     \u001b[39mself\u001b[39m,\n\u001b[1;32m     66\u001b[0m     validation_reference: Optional[\u001b[39m\"\u001b[39m\u001b[39mValidationReference\u001b[39m\u001b[39m\"\u001b[39m] \u001b[39m=\u001b[39m \u001b[39mNone\u001b[39;00m,\n\u001b[1;32m     67\u001b[0m     timeout: Optional[\u001b[39mint\u001b[39m] \u001b[39m=\u001b[39m \u001b[39mNone\u001b[39;00m,\n\u001b[1;32m     68\u001b[0m ) \u001b[39m-\u001b[39m\u001b[39m>\u001b[39m pd\u001b[39m.\u001b[39mDataFrame:\n\u001b[1;32m     69\u001b[0m \u001b[39m    \u001b[39m\u001b[39m\"\"\"\u001b[39;00m\n\u001b[1;32m     70\u001b[0m \u001b[39m    Synchronously executes the underlying query and returns the result as a pandas dataframe.\u001b[39;00m\n\u001b[1;32m     71\u001b[0m \n\u001b[0;32m   (...)\u001b[0m\n\u001b[1;32m     77\u001b[0m \u001b[39m        timeout (optional): The query timeout if applicable.\u001b[39;00m\n\u001b[1;32m     78\u001b[0m \u001b[39m    \"\"\"\u001b[39;00m\n\u001b[0;32m---> 79\u001b[0m     features_df \u001b[39m=\u001b[39m \u001b[39mself\u001b[39;49m\u001b[39m.\u001b[39;49m_to_df_internal(timeout\u001b[39m=\u001b[39;49mtimeout)\n\u001b[1;32m     81\u001b[0m     \u001b[39mif\u001b[39;00m \u001b[39mself\u001b[39m\u001b[39m.\u001b[39mon_demand_feature_views:\n\u001b[1;32m     82\u001b[0m         \u001b[39m# TODO(adchia): Fix requirement to specify dependent feature views in feature_refs\u001b[39;00m\n\u001b[1;32m     83\u001b[0m         \u001b[39mfor\u001b[39;00m odfv \u001b[39min\u001b[39;00m \u001b[39mself\u001b[39m\u001b[39m.\u001b[39mon_demand_feature_views:\n",
      "File \u001b[0;32m/opt/miniconda3/envs/feast/lib/python3.8/site-packages/feast/usage.py:299\u001b[0m, in \u001b[0;36mlog_exceptions_and_usage.<locals>.decorator.<locals>.wrapper\u001b[0;34m(*args, **kwargs)\u001b[0m\n\u001b[1;32m    296\u001b[0m     ctx\u001b[39m.\u001b[39mtraceback \u001b[39m=\u001b[39m _trace_to_log(traceback)\n\u001b[1;32m    298\u001b[0m     \u001b[39mif\u001b[39;00m traceback:\n\u001b[0;32m--> 299\u001b[0m         \u001b[39mraise\u001b[39;00m exc\u001b[39m.\u001b[39mwith_traceback(traceback)\n\u001b[1;32m    301\u001b[0m     \u001b[39mraise\u001b[39;00m exc\n\u001b[1;32m    302\u001b[0m \u001b[39mfinally\u001b[39;00m:\n",
      "File \u001b[0;32m/opt/miniconda3/envs/feast/lib/python3.8/site-packages/feast/usage.py:288\u001b[0m, in \u001b[0;36mlog_exceptions_and_usage.<locals>.decorator.<locals>.wrapper\u001b[0;34m(*args, **kwargs)\u001b[0m\n\u001b[1;32m    285\u001b[0m ctx\u001b[39m.\u001b[39mattributes\u001b[39m.\u001b[39mupdate(attrs)\n\u001b[1;32m    287\u001b[0m \u001b[39mtry\u001b[39;00m:\n\u001b[0;32m--> 288\u001b[0m     \u001b[39mreturn\u001b[39;00m func(\u001b[39m*\u001b[39;49margs, \u001b[39m*\u001b[39;49m\u001b[39m*\u001b[39;49mkwargs)\n\u001b[1;32m    289\u001b[0m \u001b[39mexcept\u001b[39;00m \u001b[39mException\u001b[39;00m:\n\u001b[1;32m    290\u001b[0m     \u001b[39mif\u001b[39;00m ctx\u001b[39m.\u001b[39mexception:\n\u001b[1;32m    291\u001b[0m         \u001b[39m# exception was already recorded\u001b[39;00m\n",
      "File \u001b[0;32m/opt/miniconda3/envs/feast/lib/python3.8/site-packages/feast/infra/offline_stores/file.py:81\u001b[0m, in \u001b[0;36mFileRetrievalJob._to_df_internal\u001b[0;34m(self, timeout)\u001b[0m\n\u001b[1;32m     78\u001b[0m \u001b[39m@log_exceptions_and_usage\u001b[39m\n\u001b[1;32m     79\u001b[0m \u001b[39mdef\u001b[39;00m \u001b[39m_to_df_internal\u001b[39m(\u001b[39mself\u001b[39m, timeout: Optional[\u001b[39mint\u001b[39m] \u001b[39m=\u001b[39m \u001b[39mNone\u001b[39;00m) \u001b[39m-\u001b[39m\u001b[39m>\u001b[39m pd\u001b[39m.\u001b[39mDataFrame:\n\u001b[1;32m     80\u001b[0m     \u001b[39m# Only execute the evaluation function to build the final historical retrieval dataframe at the last moment.\u001b[39;00m\n\u001b[0;32m---> 81\u001b[0m     df \u001b[39m=\u001b[39m \u001b[39mself\u001b[39;49m\u001b[39m.\u001b[39;49mevaluation_function()\u001b[39m.\u001b[39mcompute()\n\u001b[1;32m     82\u001b[0m     df \u001b[39m=\u001b[39m df\u001b[39m.\u001b[39mreset_index(drop\u001b[39m=\u001b[39m\u001b[39mTrue\u001b[39;00m)\n\u001b[1;32m     83\u001b[0m     \u001b[39mreturn\u001b[39;00m df\n",
      "File \u001b[0;32m/opt/miniconda3/envs/feast/lib/python3.8/site-packages/feast/infra/offline_stores/file.py:241\u001b[0m, in \u001b[0;36mFileOfflineStore.get_historical_features.<locals>.evaluate_historical_retrieval\u001b[0;34m()\u001b[0m\n\u001b[1;32m    237\u001b[0m right_entity_key_columns \u001b[39m=\u001b[39m [c \u001b[39mfor\u001b[39;00m c \u001b[39min\u001b[39;00m right_entity_key_columns \u001b[39mif\u001b[39;00m c]\n\u001b[1;32m    239\u001b[0m all_join_keys \u001b[39m=\u001b[39m \u001b[39mlist\u001b[39m(\u001b[39mset\u001b[39m(all_join_keys \u001b[39m+\u001b[39m join_keys))\n\u001b[0;32m--> 241\u001b[0m df_to_join \u001b[39m=\u001b[39m _read_datasource(feature_view\u001b[39m.\u001b[39;49mbatch_source)\n\u001b[1;32m    243\u001b[0m df_to_join, timestamp_field \u001b[39m=\u001b[39m _field_mapping(\n\u001b[1;32m    244\u001b[0m     df_to_join,\n\u001b[1;32m    245\u001b[0m     feature_view,\n\u001b[0;32m   (...)\u001b[0m\n\u001b[1;32m    250\u001b[0m     full_feature_names,\n\u001b[1;32m    251\u001b[0m )\n\u001b[1;32m    253\u001b[0m df_to_join \u001b[39m=\u001b[39m _merge(entity_df_with_features, df_to_join, join_keys)\n",
      "File \u001b[0;32m/opt/miniconda3/envs/feast/lib/python3.8/site-packages/feast/infra/offline_stores/file.py:506\u001b[0m, in \u001b[0;36m_read_datasource\u001b[0;34m(data_source)\u001b[0m\n\u001b[1;32m    495\u001b[0m \u001b[39mdef\u001b[39;00m \u001b[39m_read_datasource\u001b[39m(data_source) \u001b[39m-\u001b[39m\u001b[39m>\u001b[39m dd\u001b[39m.\u001b[39mDataFrame:\n\u001b[1;32m    496\u001b[0m     storage_options \u001b[39m=\u001b[39m (\n\u001b[1;32m    497\u001b[0m         {\n\u001b[1;32m    498\u001b[0m             \u001b[39m\"\u001b[39m\u001b[39mclient_kwargs\u001b[39m\u001b[39m\"\u001b[39m: {\n\u001b[0;32m   (...)\u001b[0m\n\u001b[1;32m    503\u001b[0m         \u001b[39melse\u001b[39;00m \u001b[39mNone\u001b[39;00m\n\u001b[1;32m    504\u001b[0m     )\n\u001b[0;32m--> 506\u001b[0m     \u001b[39mreturn\u001b[39;00m dd\u001b[39m.\u001b[39;49mread_parquet(\n\u001b[1;32m    507\u001b[0m         data_source\u001b[39m.\u001b[39;49mpath,\n\u001b[1;32m    508\u001b[0m         storage_options\u001b[39m=\u001b[39;49mstorage_options,\n\u001b[1;32m    509\u001b[0m     )\n",
      "File \u001b[0;32m/opt/miniconda3/envs/feast/lib/python3.8/site-packages/dask/backends.py:137\u001b[0m, in \u001b[0;36mCreationDispatch.register_inplace.<locals>.decorator.<locals>.wrapper\u001b[0;34m(*args, **kwargs)\u001b[0m\n\u001b[1;32m    135\u001b[0m     \u001b[39mreturn\u001b[39;00m func(\u001b[39m*\u001b[39margs, \u001b[39m*\u001b[39m\u001b[39m*\u001b[39mkwargs)\n\u001b[1;32m    136\u001b[0m \u001b[39mexcept\u001b[39;00m \u001b[39mException\u001b[39;00m \u001b[39mas\u001b[39;00m e:\n\u001b[0;32m--> 137\u001b[0m     \u001b[39mraise\u001b[39;00m \u001b[39mtype\u001b[39m(e)(\n\u001b[1;32m    138\u001b[0m         \u001b[39mf\u001b[39m\u001b[39m\"\u001b[39m\u001b[39mAn error occurred while calling the \u001b[39m\u001b[39m{\u001b[39;00mfuncname(func)\u001b[39m}\u001b[39;00m\u001b[39m \u001b[39m\u001b[39m\"\u001b[39m\n\u001b[1;32m    139\u001b[0m         \u001b[39mf\u001b[39m\u001b[39m\"\u001b[39m\u001b[39mmethod registered to the \u001b[39m\u001b[39m{\u001b[39;00m\u001b[39mself\u001b[39m\u001b[39m.\u001b[39mbackend\u001b[39m}\u001b[39;00m\u001b[39m backend.\u001b[39m\u001b[39m\\n\u001b[39;00m\u001b[39m\"\u001b[39m\n\u001b[1;32m    140\u001b[0m         \u001b[39mf\u001b[39m\u001b[39m\"\u001b[39m\u001b[39mOriginal Message: \u001b[39m\u001b[39m{\u001b[39;00me\u001b[39m}\u001b[39;00m\u001b[39m\"\u001b[39m\n\u001b[1;32m    141\u001b[0m     ) \u001b[39mfrom\u001b[39;00m \u001b[39me\u001b[39;00m\n",
      "\u001b[0;31mFileNotFoundError\u001b[0m: An error occurred while calling the read_parquet method registered to the pandas backend.\nOriginal Message: /Users/nitiwat/Developer/movielen_recsys/feature_store/notebooks/data/interim/transformed_watch_histories.parquet"
     ]
    }
   ],
   "source": [
    "entity_df = pd.DataFrame({\"userId\": [\"1.0\", \"2.0\", \"3.0\", \"4.0\", \"5.0\"], \"event_timestamp\": [datetime.now()]*5})\n",
    "training_df = fs.get_historical_features(\n",
    "    entity_df=entity_df,\n",
    "    features=[\n",
    "        \"watch_histories_feature_view:watch_histories\",\n",
    "        \"rating_feature_view:movieId\",\n",
    "        \"rating_feature_view:rating\",\n",
    "        \"global_stats_view:movieIds\",\n",
    "    ],\n",
    ").to_df()\n",
    "display(training_df)"
   ]
  },
  {
   "cell_type": "markdown",
   "metadata": {},
   "source": [
    "# Training Pipeline Retrieval\n"
   ]
  },
  {
   "cell_type": "code",
   "execution_count": null,
   "metadata": {},
   "outputs": [],
   "source": [
    "entity_df = pd.DataFrame({\"userId\": [\"1.0\", \"2.0\", \"3.0\", \"4.0\", \"5.0\"], \"timestamp\": [datetime.now()]*5})\n",
    "feature_service = fs.get_feature_service(\"rating_service\")\n",
    "\n",
    "training_df = fs.get_historical_features(\n",
    "    features=feature_service, entity_df=entity_df\n",
    ").to_df()\n",
    "display(training_df)"
   ]
  },
  {
   "cell_type": "markdown",
   "metadata": {},
   "source": [
    "# Online Serving Retrieval\n"
   ]
  },
  {
   "cell_type": "code",
   "execution_count": null,
   "metadata": {},
   "outputs": [],
   "source": [
    "entity_rows = [{\"userId\": \"1.0\"}, {\"userId\": \"2.0\"}]\n",
    "feature_service = fs.get_feature_service(\"rating_service\")\n",
    "\n",
    "training_df = fs.get_online_features(\n",
    "    features=feature_service, entity_rows=entity_rows\n",
    ").to_df()\n",
    "display(training_df)"
   ]
  },
  {
   "cell_type": "code",
   "execution_count": null,
   "metadata": {},
   "outputs": [],
   "source": [
    "feature_service = fs.get_feature_service(\"watch_histories_service\")\n",
    "\n",
    "training_df = fs.get_online_features(\n",
    "    features=feature_service, entity_rows=entity_rows\n",
    ").to_df()\n",
    "display(training_df)"
   ]
  },
  {
   "cell_type": "code",
   "execution_count": null,
   "metadata": {},
   "outputs": [],
   "source": [
    "feature_service = fs.get_feature_service(\"model_v1\")\n",
    "\n",
    "training_df = fs.get_online_features(\n",
    "    features=feature_service, entity_rows=entity_rows\n",
    ").to_df()\n",
    "display(training_df)"
   ]
  },
  {
   "cell_type": "code",
   "execution_count": null,
   "metadata": {},
   "outputs": [],
   "source": [
    "feature_service = fs.get_feature_service(\"model_v2\")\n",
    "\n",
    "training_df = fs.get_online_features(\n",
    "    features=feature_service, entity_rows=entity_rows\n",
    ").to_df()\n",
    "display(training_df)"
   ]
  },
  {
   "cell_type": "code",
   "execution_count": null,
   "metadata": {},
   "outputs": [],
   "source": [
    "feature_service = fs.get_feature_service(\"model_v3\")\n",
    "\n",
    "training_df = fs.get_online_features(\n",
    "    features=feature_service, entity_rows=entity_rows\n",
    ").to_df()\n",
    "display(training_df)"
   ]
  },
  {
   "cell_type": "code",
   "execution_count": null,
   "metadata": {},
   "outputs": [],
   "source": []
  }
 ],
 "metadata": {
  "kernelspec": {
   "display_name": "feast",
   "language": "python",
   "name": "python3"
  },
  "language_info": {
   "codemirror_mode": {
    "name": "ipython",
    "version": 3
   },
   "file_extension": ".py",
   "mimetype": "text/x-python",
   "name": "python",
   "nbconvert_exporter": "python",
   "pygments_lexer": "ipython3",
   "version": "3.8.17"
  },
  "orig_nbformat": 4
 },
 "nbformat": 4,
 "nbformat_minor": 2
}
